{
 "cells": [
  {
   "cell_type": "code",
   "execution_count": 1,
   "metadata": {},
   "outputs": [],
   "source": [
    "import audioprocessor\n",
    "import sys\n",
    "import numpy as np\n",
    "import librosa\n",
    "import librosa.display\n",
    "import scipy\n",
    "import matplotlib.pyplot as plt"
   ]
  },
  {
   "cell_type": "code",
   "execution_count": 2,
   "metadata": {},
   "outputs": [
    {
     "name": "stdout",
     "output_type": "stream",
     "text": [
      "raw window length  9600\n",
      "raw FFT shape  (4801, 8001)\n",
      "using  30  fft samples as history\n",
      "input cutoff at  2400  of  4801\n",
      "input array shape:  (8001, 1, 30, 2400)\n",
      "fx_fft and input_arr now accessible\n"
     ]
    }
   ],
   "source": [
    "audioproc = audioprocessor.AudioProcessor('data/3songs/3songs_no_fx.wav',\n",
    "                                          'data/3songs/3songs_reverb_util.wav')\n",
    "audioproc.load_data()\n",
    "audioproc.fft()\n",
    "audioproc.create_training_pairs(cutoff=0.5)"
   ]
  },
  {
   "cell_type": "code",
   "execution_count": 3,
   "metadata": {},
   "outputs": [
    {
     "name": "stdout",
     "output_type": "stream",
     "text": [
      "(4801, 8001)\n"
     ]
    }
   ],
   "source": [
    "print(audioproc.fx_fft.shape)"
   ]
  },
  {
   "cell_type": "code",
   "execution_count": null,
   "metadata": {
    "collapsed": true
   },
   "outputs": [],
   "source": []
  }
 ],
 "metadata": {
  "kernelspec": {
   "display_name": "Python 3",
   "language": "python",
   "name": "python3"
  },
  "language_info": {
   "codemirror_mode": {
    "name": "ipython",
    "version": 3
   },
   "file_extension": ".py",
   "mimetype": "text/x-python",
   "name": "python",
   "nbconvert_exporter": "python",
   "pygments_lexer": "ipython3",
   "version": "3.5.2"
  }
 },
 "nbformat": 4,
 "nbformat_minor": 2
}
